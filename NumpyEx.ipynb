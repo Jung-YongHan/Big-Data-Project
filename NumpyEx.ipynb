{
 "cells": [
  {
   "cell_type": "markdown",
   "id": "d75a7c5d",
   "metadata": {},
   "source": [
    "# Numpy 라이브러리 사용"
   ]
  },
  {
   "cell_type": "code",
   "execution_count": 1,
   "id": "401cbec3",
   "metadata": {},
   "outputs": [],
   "source": [
    "import numpy as np"
   ]
  },
  {
   "cell_type": "markdown",
   "id": "61db1abb",
   "metadata": {},
   "source": [
    "## 리스트를 1차원 배열로 전환"
   ]
  },
  {
   "cell_type": "code",
   "execution_count": 2,
   "id": "971680b4",
   "metadata": {},
   "outputs": [
    {
     "data": {
      "text/plain": [
       "array([1, 2, 3, 4, 5])"
      ]
     },
     "execution_count": 2,
     "metadata": {},
     "output_type": "execute_result"
    }
   ],
   "source": [
    "a = [1,2,3,4,5]\n",
    "a_arr = np.array(a)\n",
    "a_arr"
   ]
  },
  {
   "cell_type": "markdown",
   "id": "907ccc9c",
   "metadata": {},
   "source": [
    "## 1차원 배열 생성"
   ]
  },
  {
   "cell_type": "code",
   "execution_count": 3,
   "id": "da9e2461",
   "metadata": {},
   "outputs": [
    {
     "data": {
      "text/plain": [
       "array([1, 2, 3, 4, 5])"
      ]
     },
     "execution_count": 3,
     "metadata": {},
     "output_type": "execute_result"
    }
   ],
   "source": [
    "b = np.arange(1,6)\n",
    "b"
   ]
  },
  {
   "cell_type": "markdown",
   "id": "2125e93e",
   "metadata": {},
   "source": [
    "## 1차원 배열을 리스트로 전환"
   ]
  },
  {
   "cell_type": "code",
   "execution_count": 4,
   "id": "6bce4764",
   "metadata": {},
   "outputs": [
    {
     "data": {
      "text/plain": [
       "[1, 2, 3, 4, 5]"
      ]
     },
     "execution_count": 4,
     "metadata": {},
     "output_type": "execute_result"
    }
   ],
   "source": [
    "a_list = a_arr.tolist()\n",
    "a_list"
   ]
  },
  {
   "cell_type": "markdown",
   "id": "b7d3080d",
   "metadata": {},
   "source": [
    "## 리스트를 2차원 배열로 전환"
   ]
  },
  {
   "cell_type": "code",
   "execution_count": 5,
   "id": "81b2b5d5",
   "metadata": {},
   "outputs": [
    {
     "data": {
      "text/plain": [
       "array([[1, 2],\n",
       "       [3, 4],\n",
       "       [5, 6]])"
      ]
     },
     "execution_count": 5,
     "metadata": {},
     "output_type": "execute_result"
    }
   ],
   "source": [
    "c = [[1,2], [3,4], [5,6]]\n",
    "c_arr = np.array(c)\n",
    "c_arr"
   ]
  },
  {
   "cell_type": "markdown",
   "id": "88975267",
   "metadata": {},
   "source": [
    "## 2차원 배열 생성"
   ]
  },
  {
   "cell_type": "code",
   "execution_count": 6,
   "id": "ac34c998",
   "metadata": {},
   "outputs": [
    {
     "data": {
      "text/plain": [
       "array([[1, 2],\n",
       "       [3, 4],\n",
       "       [5, 6]])"
      ]
     },
     "execution_count": 6,
     "metadata": {},
     "output_type": "execute_result"
    }
   ],
   "source": [
    "d = np.arange(1,7).reshape(3,2)\n",
    "d"
   ]
  },
  {
   "cell_type": "markdown",
   "id": "a05f9690",
   "metadata": {},
   "source": [
    "## 2차원 배열을 리스트로 전환"
   ]
  },
  {
   "cell_type": "code",
   "execution_count": 7,
   "id": "32f44b96",
   "metadata": {},
   "outputs": [
    {
     "data": {
      "text/plain": [
       "[[1, 2], [3, 4], [5, 6]]"
      ]
     },
     "execution_count": 7,
     "metadata": {},
     "output_type": "execute_result"
    }
   ],
   "source": [
    "d_arr = d.tolist()\n",
    "d_arr"
   ]
  },
  {
   "cell_type": "markdown",
   "id": "23c492b3",
   "metadata": {},
   "source": [
    "# 배열의 합"
   ]
  },
  {
   "cell_type": "code",
   "execution_count": 8,
   "id": "222093bc",
   "metadata": {},
   "outputs": [
    {
     "name": "stdout",
     "output_type": "stream",
     "text": [
      "[ 5  7  9 11 13]\n"
     ]
    }
   ],
   "source": [
    "a = np.arange(1,6) #(1,2,3,4,5)\n",
    "b = np.arange(4,9) #(4,5,6,7,8)\n",
    "print(a+b)"
   ]
  },
  {
   "cell_type": "markdown",
   "id": "b2e280ea",
   "metadata": {},
   "source": [
    "## 배열의 곱 (행렬의 곱과는 다른 연산이다.)"
   ]
  },
  {
   "cell_type": "code",
   "execution_count": 9,
   "id": "b1ccc62c",
   "metadata": {},
   "outputs": [
    {
     "name": "stdout",
     "output_type": "stream",
     "text": [
      "[ 4 10 18 28 40]\n"
     ]
    }
   ],
   "source": [
    "a = np.arange(1,6) #(1,2,3,4,5)\n",
    "b = np.arange(4,9) #(4,5,6,7,8)\n",
    "print(a*b)"
   ]
  },
  {
   "cell_type": "markdown",
   "id": "2180ac06",
   "metadata": {},
   "source": [
    "# 배열의 차원 확인"
   ]
  },
  {
   "cell_type": "code",
   "execution_count": 10,
   "id": "e25daea0",
   "metadata": {},
   "outputs": [
    {
     "name": "stdout",
     "output_type": "stream",
     "text": [
      "(4,) 1 (2, 2) 2\n"
     ]
    }
   ],
   "source": [
    "a = np.arange(1,5) #(1,2,3,4)\n",
    "b = np.arange(4,8).reshape(2,2) #([4,5],[6,7])\n",
    "print(a.shape, a.ndim, b.shape, b.ndim)"
   ]
  },
  {
   "cell_type": "markdown",
   "id": "5bc5be1a",
   "metadata": {},
   "source": [
    "# 배열 요소의 자료형 확인"
   ]
  },
  {
   "cell_type": "code",
   "execution_count": 11,
   "id": "a0044fcb",
   "metadata": {},
   "outputs": [
    {
     "name": "stdout",
     "output_type": "stream",
     "text": [
      "int32 <U1 float64\n"
     ]
    }
   ],
   "source": [
    "a = np.arange(1,5) #(1,2,3,4)\n",
    "b = ['1','2','3','4']\n",
    "c = [1.1, 2.2, 3.3, 4.4]\n",
    "b_arr = np.array(b)\n",
    "c_arr = np.array(c)\n",
    "print(a.dtype, b_arr.dtype, c_arr.dtype)"
   ]
  },
  {
   "cell_type": "markdown",
   "id": "95337c30",
   "metadata": {},
   "source": [
    "# 브로드캐스팅 (열의 확장) - 크기가 다른 배열의 연산 수행"
   ]
  },
  {
   "cell_type": "code",
   "execution_count": 12,
   "id": "dd5a2e79",
   "metadata": {},
   "outputs": [
    {
     "name": "stdout",
     "output_type": "stream",
     "text": [
      "[[ 2  4  6  8]\n",
      " [ 6  8 10 12]]\n"
     ]
    }
   ],
   "source": [
    "a = np.arange(1,9).reshape(2,4) #([1,2,3,4],[5,6,7,8])\n",
    "b = np.arange(1,5) #(1,2,3,4)\n",
    "print(a+b)"
   ]
  },
  {
   "cell_type": "markdown",
   "id": "2ed1630a",
   "metadata": {},
   "source": [
    "## 브로드캐스팅(행의 확장)"
   ]
  },
  {
   "cell_type": "code",
   "execution_count": 13,
   "id": "dd0a0762",
   "metadata": {},
   "outputs": [
    {
     "name": "stdout",
     "output_type": "stream",
     "text": [
      "[[2]\n",
      " [3]\n",
      " [4]]\n"
     ]
    }
   ],
   "source": [
    "a = np.arange(1,4).reshape(3,1) #([1],[2],[3]) 3행 1열 2차원 벡터\n",
    "b = np.arange(1,2)\n",
    "print(a+b)"
   ]
  },
  {
   "cell_type": "markdown",
   "id": "64a0b60b",
   "metadata": {},
   "source": [
    "## 브로드캐스팅(행, 열의 확장)"
   ]
  },
  {
   "cell_type": "code",
   "execution_count": 14,
   "id": "85efe5cd",
   "metadata": {},
   "outputs": [
    {
     "name": "stdout",
     "output_type": "stream",
     "text": [
      "[[2 3 4]\n",
      " [3 4 5]\n",
      " [4 5 6]]\n"
     ]
    }
   ],
   "source": [
    "a = np.arange(1,4).reshape(3,1) #([1],[2],[3]) 3행 1열 2차원 벡터\n",
    "b = np.arange(1,4)\n",
    "print(a+b)"
   ]
  },
  {
   "cell_type": "markdown",
   "id": "7be5ad49",
   "metadata": {},
   "source": [
    "## 브로드캐스팅 규칙 - 뒤에서 부터 대응하는 축의 크기가 같거나, 1이어야 함."
   ]
  },
  {
   "cell_type": "code",
   "execution_count": 15,
   "id": "eeaa75d9",
   "metadata": {},
   "outputs": [
    {
     "ename": "ValueError",
     "evalue": "operands could not be broadcast together with shapes (3,2) (3,) ",
     "output_type": "error",
     "traceback": [
      "\u001b[1;31m---------------------------------------------------------------------------\u001b[0m",
      "\u001b[1;31mValueError\u001b[0m                                Traceback (most recent call last)",
      "\u001b[1;32m~\\AppData\\Local\\Temp/ipykernel_14968/2200162378.py\u001b[0m in \u001b[0;36m<module>\u001b[1;34m\u001b[0m\n\u001b[0;32m      1\u001b[0m \u001b[0ma\u001b[0m \u001b[1;33m=\u001b[0m \u001b[0mnp\u001b[0m\u001b[1;33m.\u001b[0m\u001b[0marange\u001b[0m\u001b[1;33m(\u001b[0m\u001b[1;36m1\u001b[0m\u001b[1;33m,\u001b[0m\u001b[1;36m7\u001b[0m\u001b[1;33m)\u001b[0m\u001b[1;33m.\u001b[0m\u001b[0mreshape\u001b[0m\u001b[1;33m(\u001b[0m\u001b[1;36m3\u001b[0m\u001b[1;33m,\u001b[0m\u001b[1;36m2\u001b[0m\u001b[1;33m)\u001b[0m\u001b[1;33m\u001b[0m\u001b[1;33m\u001b[0m\u001b[0m\n\u001b[0;32m      2\u001b[0m \u001b[0mb\u001b[0m \u001b[1;33m=\u001b[0m \u001b[0mnp\u001b[0m\u001b[1;33m.\u001b[0m\u001b[0marange\u001b[0m\u001b[1;33m(\u001b[0m\u001b[1;36m1\u001b[0m\u001b[1;33m,\u001b[0m\u001b[1;36m4\u001b[0m\u001b[1;33m)\u001b[0m\u001b[1;33m\u001b[0m\u001b[1;33m\u001b[0m\u001b[0m\n\u001b[1;32m----> 3\u001b[1;33m \u001b[0mprint\u001b[0m\u001b[1;33m(\u001b[0m\u001b[0ma\u001b[0m\u001b[1;33m+\u001b[0m\u001b[0mb\u001b[0m\u001b[1;33m)\u001b[0m    \u001b[1;31m#ValueError\u001b[0m\u001b[1;33m\u001b[0m\u001b[1;33m\u001b[0m\u001b[0m\n\u001b[0m",
      "\u001b[1;31mValueError\u001b[0m: operands could not be broadcast together with shapes (3,2) (3,) "
     ]
    }
   ],
   "source": [
    "a = np.arange(1,7).reshape(3,2)\n",
    "b = np.arange(1,4)\n",
    "print(a+b)    #ValueError"
   ]
  },
  {
   "cell_type": "markdown",
   "id": "e9fa5d12",
   "metadata": {},
   "source": [
    "# 초기화와 동시에 배열 생성"
   ]
  },
  {
   "cell_type": "code",
   "execution_count": null,
   "id": "34e568dd",
   "metadata": {},
   "outputs": [],
   "source": [
    "a = np.zeros(5)\n",
    "b = np.ones(5)\n",
    "print(a, a.dtype, b, b.shape)"
   ]
  },
  {
   "cell_type": "markdown",
   "id": "c4becef5",
   "metadata": {},
   "source": [
    "# 배열의 타입변환"
   ]
  },
  {
   "cell_type": "code",
   "execution_count": null,
   "id": "15624d62",
   "metadata": {},
   "outputs": [],
   "source": [
    "a = np.arange(1,5) # (1,2,3,4)\n",
    "b = a.astype('float64')\n",
    "c = a.astype(float) # 기존 np.float의 접두사?인 np.는 더 이상 이용하지 않는다.\n",
    "d = c.astype(int)\n",
    "print(b, c, d)"
   ]
  },
  {
   "cell_type": "markdown",
   "id": "88ebd15a",
   "metadata": {},
   "source": [
    "# 배열 생성 시 타입 지정"
   ]
  },
  {
   "cell_type": "code",
   "execution_count": null,
   "id": "dc3ef714",
   "metadata": {},
   "outputs": [],
   "source": [
    "a = np.array([1,2,3], dtype=float)\n",
    "b = np.array([1.1,2.2,3.3], dtype=int)\n",
    "print(a, b)"
   ]
  },
  {
   "cell_type": "markdown",
   "id": "2dd9a976",
   "metadata": {},
   "source": [
    "# 배열과 스칼라 간의 연산"
   ]
  },
  {
   "cell_type": "code",
   "execution_count": null,
   "id": "eff3e5ba",
   "metadata": {},
   "outputs": [],
   "source": [
    "a = np.arange(1,4) #(1,2,3)\n",
    "print(a-a, a*a, 1/a, a**0.5)"
   ]
  },
  {
   "cell_type": "markdown",
   "id": "db3b0771",
   "metadata": {},
   "source": [
    "# 색인과 슬라이싱의 특징 - 1) 기존 배열도 함께 변경"
   ]
  },
  {
   "cell_type": "code",
   "execution_count": null,
   "id": "fcc28944",
   "metadata": {},
   "outputs": [],
   "source": [
    "a = np.arange(10) #(0,1,2,3,4,5,6,7,8,9)\n",
    "print(a[5])"
   ]
  },
  {
   "cell_type": "code",
   "execution_count": null,
   "id": "dd6b7ba7",
   "metadata": {},
   "outputs": [],
   "source": [
    "b = np.arange(10) #(0,1,2,3,4,5,6,7,8,9)\n",
    "b[3:6] = 10\n",
    "print(b)"
   ]
  },
  {
   "cell_type": "code",
   "execution_count": null,
   "id": "bb6b0f32",
   "metadata": {},
   "outputs": [],
   "source": [
    "c = np.arange(10) #(0,1,2,3,4,5,6,7,8,9)\n",
    "c_arr = c[3:6] #(3,4,5)\n",
    "c_arr[0] = 777 # 3 -> 777\n",
    "c_arr[1:] = 888\n",
    "print(c)"
   ]
  },
  {
   "cell_type": "markdown",
   "id": "449a1e3c",
   "metadata": {},
   "source": [
    "# 색인과 슬라이싱의 특징 - 2) 차원의 변경"
   ]
  },
  {
   "cell_type": "code",
   "execution_count": null,
   "id": "c9b5dad0",
   "metadata": {},
   "outputs": [],
   "source": [
    "a = np.arange(1,10).reshape(3,3) #[[1,2,3],[4,5,6],[7,8,9]]\n",
    "a_arr1 = a[1:][:2]\n",
    "a_arr2 = a[2][2]\n",
    "print(a_arr1, a_arr2)"
   ]
  },
  {
   "cell_type": "code",
   "execution_count": null,
   "id": "12af5f7a",
   "metadata": {},
   "outputs": [],
   "source": [
    "b = np.arange(1,10).reshape(3,3) #[[1,2,3],[4,5,6],[7,8,9]]\n",
    "b_arr1 = b[1:]\n",
    "b_arr2 = b_arr1[0]\n",
    "b_arr3 = b_arr2[0]\n",
    "print(b_arr1, b_arr2, b_arr3) # 슬라이싱을 적용하지 않는다면 차원이 하나 씩 낮아지는 것을 알 수 있음. 즉, 정수 색인 시 차원 낮아짐."
   ]
  }
 ],
 "metadata": {
  "kernelspec": {
   "display_name": "Python 3 (ipykernel)",
   "language": "python",
   "name": "python3"
  },
  "language_info": {
   "codemirror_mode": {
    "name": "ipython",
    "version": 3
   },
   "file_extension": ".py",
   "mimetype": "text/x-python",
   "name": "python",
   "nbconvert_exporter": "python",
   "pygments_lexer": "ipython3",
   "version": "3.9.7"
  }
 },
 "nbformat": 4,
 "nbformat_minor": 5
}
